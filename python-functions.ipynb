{
 "cells": [
  {
   "cell_type": "code",
   "execution_count": null,
   "metadata": {},
   "outputs": [],
   "source": [
    "# Functions in Python\n",
    "\n",
    "<a href=\"http://creativecommons.org/licenses/by-nc/4.0/\" rel=\"license\"><img style=\"border-width: 0;\" src=\"https://i.creativecommons.org/l/by-nc/4.0/88x31.png\" alt=\"Creative Commons License\" /></a>\n",
    "This tutorial is licensed under a <a href=\"http://creativecommons.org/licenses/by-nc/4.0/\" rel=\"license\">Creative Commons Attribution-NonCommercial 4.0 International License</a>.\n",
    "\n",
    "## Acknowledgements\n",
    "\n",
    "Elements of this lab procedure were adapted from materials developed by [Dr. Peter Bui](http://www3.nd.edu/~pbui/) for the [CSE 10101 \"Elements of Computing I\" course](https://www3.nd.edu/~pbui/teaching/cdt.30010.fa16/).\n",
    "- [Conditional and Alternative Execution](http://nbviewer.jupyter.org/urls/gitlab.com/snippets/25773/raw)\n",
    "- [Functions](http://nbviewer.jupyter.org/urls/gitlab.com/snippets/26619/raw)\n",
    "\n",
    "Elements of this lab procedure were adapted from materials developed by [Dr. Janet Davis](https://cs.whitman.edu/~davisj/) for the the [CSC 105 \"The Digital Age\" course](https://www.cs.grinnell.edu/~davisjan/csc/105/2012S/). \n",
    "- [Laboratory: Programming in Python (Decisions and Repetition)](http://www.cs.grinnell.edu/~davisjan/csc/105/labs/python3.html)\n",
    "\n",
    "Elements of this lab procedure were adapted from materials developed by [Dr. Corey Pennycuff](https://www3.nd.edu/~cpennycu/) for the [CSE 10101 Elements of Computing (Fall 2019)](https://www3.nd.edu/~cpennycu/2019/fa-CSE10101-CDT30010.html).\n",
    "- [Control flow structures](https://www3.nd.edu/~cpennycu/2019/assets/fall/EOC/19.09.03.ipynb)\n",
    "- [Functions](https://www3.nd.edu/~cpennycu/2019/assets/fall/EOC/19.09.19.ipynb)\n",
    "- [String functions and manipulation](https://www3.nd.edu/~cpennycu/2019/assets/fall/EOC/19.10.01.ipynb)\n",
    "\n",
    "Elements of this lab procedure were adapted from materials developed by [Lindsay K. Mattock](http://lindsaymattock.net/) for the the [SLIS 5020 Computing Foundations course](http://lindsaymattock.net/computingfoundations.html). \n",
    "\n",
    "# Table of Contents\n",
    "\n",
    "- [Functions](#functions)\n",
    "  * [Built-In Functions](#built-in-functions)\n",
    "  * [Named Functions](#named-functions)\n",
    "    * [How Named Functions Work](#how-named-functions-work)\n",
    "    * [Name Function Examples](#named-function-examples)\n",
    "      * [Function Example A](#function-example-a)\n",
    "      * [Function Example B](#function-example-b)\n",
    "    * [Additional Function Considerations](#additional-function-considerations)\n",
    "      * [Fruitful Versus Void Functions](#fruitful-versus-void-functions)\n",
    "      * [Parameters](#parameters)\n",
    "      * [Scoping](#scoping)\n",
    "      * [Docstrings](#docstrings)\n",
    "  * [Why Functions](#why-functions)\n",
    "  * [Additional Work With Functions](#additional-work-with-functions)\n",
    "- [Lab Notebook Questions](#lab-notebook-questions)\n",
    "\n",
    "# Functions\n",
    "\n",
    "1. In Python, a function is a named sequence of statements that performs a computation.\n",
    "- Key term: *function*\n",
    "\n",
    "2. To execute a function, we call it by name and pass it an appropriate set of input arguments.\n",
    "- Key terms: *function call, input argument*\n",
    "\n",
    "3. A function takes zero or more arguments as inputs and returns zero or more outputs as a result.\n",
    "\n",
    "4. The output or result of a function is called the return value.\n",
    "- Key terms: *function output or return value*\n",
    "\n",
    "5. Data, parameters, or arguments can be passed into a function.\n",
    "\n",
    "6. Functions can also return data.\n",
    "\n",
    "## Built-In Functions\n",
    "\n",
    "7. We have actually already been working with a number of Python's built-in functions.\n",
    "\n",
    "8. These include `print()`, `dict()`, `input()`, `int()`, and `len()`.\n",
    "\n",
    "9. We call built-in functions using the function name, followed by parenthesis.\n",
    "- `print()`\n",
    "- `dict()`\n",
    "- `input()`\n",
    "- `int()`\n",
    "- `len()`\n",
    "\n",
    "## Named Functions\n",
    "\n",
    "10. But Python also allows you to create (and name) your own functions.\n",
    "- Key term: *named function(s)*\n",
    "\n",
    "11. We can define or name a function using the `def` keyword.\n",
    "\n",
    "12. A function definition includes a few core components:\n",
    "- The name of the new function\n",
    "- The list of function arguments\n",
    "- The sequence of statements to execute when the function is called\n",
    "\n",
    "13. The core syntax for defining your own function:\n"
   ]
  },
  {
   "cell_type": "raw",
   "metadata": {},
   "source": [
    "# use def keyword to define function name\n",
    "def function_name(argument):\n",
    " statement(s)\n",
    " return result"
   ]
  },
  {
   "cell_type": "markdown",
   "metadata": {},
   "source": [
    "14. Let's unpack each of those components.\n",
    "\n",
    "15. `def function_name()` is the name you are giving to the function you create- this is the header for the function definition.\n",
    "\n",
    "16. Function names have many of the same rules as variable names- no spaces or special characters.\n",
    "\n",
    "17. `argument` is the argument that will be passed to the function.\n",
    "\n",
    "18. When we are initially defining the function, the `argument` value is typically a placeholder.\n",
    "\n",
    "19. Later in the program when we call the named function, the argument being passed to the function goes in these parenthesis.\n",
    "\n",
    "20. The nested or indented line `statement(s)` is the body of the function definition.\n",
    "\n",
    "21. It includes a sequence of statements to execute when the function is called.\n",
    "\n",
    "22. The nested or indented line `return result` is a placeholder for the function output or endpoint- it is also part of the body of the function definition.\n",
    "\n",
    "### How Named Functions Work\n",
    "\n",
    "23. So what happens when we use the `def` keyword to create a named function?\n",
    "\n",
    "24. Programs are always executed sequentially, one statement at a time.\n",
    "\n",
    "25. Function definitions create new functions, but do not execute the bodies or statements within the functions UNTIL the functions are called.\n",
    "\n",
    "26. When we call a named function, the program jumps to the definition for the function being called, executes the function's body, and then returns to the point in the program where the function was called and resumes executing the program.\n",
    "\n",
    "27. Let's look at some examples.\n",
    "\n",
    "#### Named Function Examples\n",
    "\n",
    "##### Function Example A\n",
    "\n",
    "28. Let's say we want to create a function that prints an input string three times."
   ]
  },
  {
   "cell_type": "code",
   "execution_count": null,
   "metadata": {},
   "outputs": [],
   "source": [
    "def printThreeTimes(string):\n",
    " for x in range(3):\n",
    "  print(string)"
   ]
  },
  {
   "cell_type": "markdown",
   "metadata": {},
   "source": [
    "29. To walk through what is happening in this function definition...\n",
    "\n",
    "30. `def printThreeTimes(string)` assigns the function name (`printThreeTimes`).\n",
    "\n",
    "31. This is the name we will use when calling this function elsewhere in the program.\n",
    "\n",
    "32. `for x in range(3)` is part of the body of the function.\n",
    "\n",
    "33. This line of code uses a `for` loop to say \"for each integer value in the range leading up to but not including 3,\" do.....something!\n",
    "\n",
    "34. That \"something\" is the `print` statement nested in the `for` loop.\n",
    "\n",
    "35. That `print` statement will output the `string` value each time through the `for` loop.\n",
    "\n",
    "36. Now let's see this named function in action."
   ]
  },
  {
   "cell_type": "code",
   "execution_count": null,
   "metadata": {},
   "outputs": [],
   "source": [
    "string = \"There's no place like home.\"\n",
    "\n",
    "printThreeTimes(string)"
   ]
  },
  {
   "cell_type": "markdown",
   "metadata": {},
   "source": [
    "37. We wouldn't need to assign the string to a variable- we could pass it directly to the function."
   ]
  },
  {
   "cell_type": "code",
   "execution_count": null,
   "metadata": {},
   "outputs": [],
   "source": [
    "printThreeTimes(\"There's no place like home.\")"
   ]
  },
  {
   "cell_type": "markdown",
   "metadata": {},
   "source": [
    "##### Function Example B\n",
    "\n",
    "38. Let's look at another example.\n",
    "\n",
    "39. Here, we want to create a function that prints an input string a specific number of times."
   ]
  },
  {
   "cell_type": "markdown",
   "metadata": {},
   "source": [
    "<blockquote>Q1: Describe how you would start building out code to accomplish this task? What functions, statements, or keywords would you need to use? How would you start to organize this program?</blockquote>\n",
    "\n",
    "<blockquote>Q2: See where you can get with writing this program. What parts of the program were you able to get working? Where did you run into challenges?</blockquote>"
   ]
  },
  {
   "cell_type": "markdown",
   "metadata": {},
   "source": [
    "40. Here is one approach to this task.\n",
    "\n",
    "41. First, we want to define the name of our function, as well as what input arguments it will take.\n",
    "\n",
    "42. We know that we need to pass a string to be printed AND an integer for the number of times to the named function.\n",
    "\n",
    "43. For now, let's call the string `string` and the integer `times`.\n",
    "\n",
    "44. So the function header could look like:"
   ]
  },
  {
   "cell_type": "raw",
   "metadata": {},
   "source": [
    "def printNTimes(string, times):"
   ]
  },
  {
   "cell_type": "markdown",
   "metadata": {},
   "source": [
    "45. We've named the `printNTimes` function and established we will be passing two arguments to the function.\n",
    "\n",
    "46. Next, we could us a `for` loop in combination with the `range()` function to accomplish a specific task for a specific number of iterations."
   ]
  },
  {
   "cell_type": "raw",
   "metadata": {},
   "source": [
    "for x in range(times)"
   ]
  },
  {
   "cell_type": "markdown",
   "metadata": {},
   "source": [
    "47. As in the previous named function example, we can think of the `for` loop as saying \"for each integer value in the range leading up to but not including the `times` value,\" do.....something!\n",
    "\n",
    "48. That \"something\" is the `print` statement nested in the `for` loop.\n",
    "\n",
    "49. That `print` statement will output the `string` value each time through the `for` loop.\n",
    "\n",
    "50. Putting that all together:"
   ]
  },
  {
   "cell_type": "code",
   "execution_count": null,
   "metadata": {},
   "outputs": [],
   "source": [
    "def printNTimes(string, times):\n",
    " for x in range(times):\n",
    "  print(string)"
   ]
  },
  {
   "cell_type": "code",
   "execution_count": null,
   "metadata": {},
   "outputs": [],
   "source": [
    "# assign x variable\n",
    "x = 1\n",
    "\n",
    "# function definition\n",
    "def print_number(x):\n",
    " print(x)\n",
    " \n",
    "# print x variable\n",
    "print(x)\n",
    "\n",
    "# call named function\n",
    "print_number(2)"
   ]
  },
  {
   "cell_type": "markdown",
   "metadata": {},
   "source": [
    "51. So now we have a function that prints our string a number of times specified by the `times` value in combination with the `range()` function."
   ]
  },
  {
   "cell_type": "markdown",
   "metadata": {},
   "source": [
    "<blockquote>Q3: How does the sample program compare to your approach to the previous two questions? What was similar? What was different? How are you thinking differently (if at all) about how to approach this type of program?</blockquote>\n",
    "\n",
    "<blockquote>Q4: How would you write a program that calls the function you have created? Include code + comments.</blockquote>"
   ]
  },
  {
   "cell_type": "markdown",
   "metadata": {},
   "source": [
    "<blockquote><a href=\"https://www.w3schools.com/python/python_functions.asp\">Click here</a> for more information on named functions in Python, via W3Schools.</blockquote>\n",
    "\n",
    "### Additional Functions Considerations\n",
    "\n",
    "#### Fruitful Versus Void Functions\n",
    "\n",
    "52. Functions that yield a result are considered fruitful.\n",
    "- Key term: *fruitful function(s)*\n",
    "\n",
    "53. To output a result, a function uses the return statement to pass results back to the function call.\n",
    "\n",
    "54. Functions that perform a computation but do not yield a result are considered void.\n",
    "- Key term: *void function(s)*\n",
    "\n",
    "55. By default, the return value for void functions is `None`.\n",
    "\n",
    "#### Parameters\n",
    "\n",
    "56. Inside a function, the arguments are assigned to local variables, or placeholder variables.\n",
    "\n",
    "57. These local variables are called parameters.\n",
    "- Key term: *parameter*\n",
    "\n",
    "#### Scoping\n",
    "\n",
    "58. The name of the parameter inside the function is separated or isolated from the name outside the function.\n",
    "\n",
    "59. This separation of namespaces is called scoping.\n",
    "- Key term: *scoping*\n",
    "\n",
    "60. An example of scoping:"
   ]
  },
  {
   "cell_type": "code",
   "execution_count": null,
   "metadata": {},
   "outputs": [],
   "source": [
    "# assign x variable\n",
    "x = 1\n",
    "\n",
    "# function definition\n",
    "def print_number(x):\n",
    " print(x)\n",
    " \n",
    "# print x variable\n",
    "print(x)\n",
    "\n",
    "# call named function\n",
    "print_number(2)"
   ]
  },
  {
   "cell_type": "markdown",
   "metadata": {},
   "source": [
    "61. In short, the placeholder variables (or parameters) we use inside the function definition are separated or isolated from any instance where a variable or parameter with the same name is used outside the function definition.\n",
    "\n",
    "<blockquote><a href=\"https://www.w3schools.com/python/python_scope.asp\">Click here</a> to learn more about scope in Python, via W3Schools.</blockquote>\n",
    "\n",
    "#### Docstrings\n",
    "\n",
    "62. We can add comments to a function definition by including a docstring under the function header.\n",
    "- Key term: *docstring*\n",
    "\n",
    "63. As we've learned previously, single-line comments in Python are declared using the `#` symbol, and multi-line comments in Python are declared using the <code>'''</code> symbol.\n",
    "\n",
    "64. Docstrings are declared using triple single quotes (<code>'''</code>) or triple double quotes (`\"\"\"`).\n",
    "\n",
    "65. Best practice is to start the docstring just below the function header.\n",
    "\n",
    "66. Another best practice for docstrings is to begin with a capital letter and end with a period.\n",
    "\n",
    "67. The docstring should briefly describe what the function does.\n",
    "\n",
    "68. Let's see this in action with an example from earlier in the lab."
   ]
  },
  {
   "cell_type": "code",
   "execution_count": null,
   "metadata": {},
   "outputs": [],
   "source": [
    "def printThreeTimes(string):\n",
    " '''Prints an input string three times'''\n",
    " for x in range(3):\n",
    "  print(string)"
   ]
  },
  {
   "cell_type": "markdown",
   "metadata": {},
   "source": [
    "69. We have a couple options for accessing the contents of the docstring elesewhere in the program.\n",
    "\n",
    "70. We can use the `_doc_` method (underscore, underscore, doc, underscore, underscore)."
   ]
  },
  {
   "cell_type": "code",
   "execution_count": null,
   "metadata": {},
   "outputs": [],
   "source": [
    "print(\"Using _doc_:\")\n",
    "print(printThreeTimes.__doc__)"
   ]
  },
  {
   "cell_type": "markdown",
   "metadata": {},
   "source": [
    "71. Or we can use the `help()` function."
   ]
  },
  {
   "cell_type": "code",
   "execution_count": null,
   "metadata": {},
   "outputs": [],
   "source": [
    "print(\"Using help:\")\n",
    "help(printThreeTimes)"
   ]
  },
  {
   "cell_type": "markdown",
   "metadata": {},
   "source": [
    "72. Multi-line docstrings can be used to provide additional description about the named function, including information about parameters, arguments, and returns.\n",
    "\n",
    "<blockquote><a href=\"https://www.python.org/dev/peps/pep-0257/\">Click here</a> to learn more about docstrings in Python, via Python.org documentation.</blockquote>\n",
    "\n",
    "## Why Functions\n",
    "\n",
    "73. By this point in the lab, your brain might be hurting. Mine is.\n",
    "\n",
    "74. Let's take a step back and think about *why* we would want or need to use functions in our code.\n",
    "\n",
    "<p align=\"center\"><a href=\"https://github.com/kwaldenphd/python-conditional-statements-functions/blob/main/Python_Function_Meme.png?raw=true\"><img class=\"aligncenter\" src=\"https://github.com/kwaldenphd/python-conditional-statements-functions/blob/main/Python_Function_Meme.png?raw=true\" /></a></p>\n",
    "\n",
    "75. Python functions can help with programming tasks in a number of key ways.\n",
    "\n",
    "76. They help yield **more concise code*** by eliminating the need to write out code for the same task multiple times.\n",
    "\n",
    "77. In doing so, they also **improve code readability**.\n",
    "\n",
    "78. Functions also help us **more effectively test and debug code**.\n",
    "\n",
    "79. Again, because we are creating reusable pieces or building blocks of code, we can more readily pinpoint where things are going wrong or not working in our code.\n",
    "\n",
    "80. By allowing us to define and call functions for common tasks, they **promote code reuse and modularity**."
   ]
  },
  {
   "cell_type": "markdown",
   "metadata": {},
   "source": [
    "## Additional Work With Functions\n",
    "\n",
    "Q5: Write a function `is_even` that determines whether or not a number `n` is even. Include code + comments for the function definition as well as a sample function call.\n",
    "\n",
    "Q6: Write a function `average` that determines the average value of a list. Include code + comments for the function definition as well as a sample function call.\n",
    "\n",
    "Q7: Write a function `uniq` that takes a list and returns a new list containing only unique values. Include code + comments for the function definition as well as a sample function call.\n",
    "\n",
    "Q8: The Python code below is suppose to create a function that determines if the given list of numbers is sorted. That is, the function should return `True` if each item in the list is less than the next item. Unfortunately, there are a few errors in the code below. Identify the errors and fix the code. Include your modified code with comments that document what changes you made to address the errors."
   ]
  },
  {
   "cell_type": "code",
   "execution_count": null,
   "metadata": {},
   "outputs": [],
   "source": [
    "is_sorted([1, 2, 3, 4, 2])\n",
    "\n",
    "def is_sorted(numbers):\n",
    "    ''' Return whether or not the list of numbers is sorted '''\n",
    "    for i in range(len(numbers) - 1):\n",
    "        if numbers[i] > numbers[i + 1]:\n",
    "            return False\n",
    "    return True"
   ]
  },
  {
   "cell_type": "markdown",
   "metadata": {},
   "source": [
    "Q9: In your own words, what is a function?\n",
    "\n",
    "Q10: In your own words, how do we create a function?\n",
    "\n",
    "Q11: In your own words, what is an argument or parameter?\n",
    "\n",
    "Q12: In your own words, what is a return value?\n",
    "\n",
    "Q13: Why would we use functions, or what is the value of functions?"
   ]
  },
  {
   "cell_type": "markdown",
   "metadata": {},
   "source": [
    "# Lab Notebook Questions\n",
    "\n",
    "Q1: Describe how you would start building out code to accomplish this task? What functions, statements, or keywords would you need to use? How would you start to organize this program?\n",
    "\n",
    "Q2: See where you can get with writing this program. What parts of the program were you able to get working? Where did you run into challenges?\n",
    "\n",
    "Q3: How does the sample program compare to your approach to the previous two questions? What was similar? What was different? How are you thinking differently (if at all) about how to approach this type of program?\n",
    "\n",
    "Q4: How would you write a program that calls the function you have created? Include code + comments.\n",
    "\n",
    "Q5: Write a function is_even that determines whether or not a number n is even. Include code + comments for the function definition as well as a sample function call.\n",
    "\n",
    "Q6: Write a function average that determines the average value of a list. Include code + comments for the function definition as well as a sample function call.\n",
    "\n",
    "Q7: Write a function uniq that takes a list and returns a new list containing only unique values. Include code + comments for the function definition as well as a sample function call.\n",
    "\n",
    "Q8: The Python code below is suppose to create a function that determines if the given list of numbers is sorted. That is, the function should return True if each item in the list is less than the next item. Unfortunately, there are a few errors in the code below. Identify the errors and fix the code. Include your modified code with comments that document what changes you made to address the errors."
   ]
  },
  {
   "cell_type": "code",
   "execution_count": null,
   "metadata": {},
   "outputs": [],
   "source": [
    "is_sorted([1, 2, 3, 4, 2])\n",
    "\n",
    "def is_sorted(numbers):\n",
    "    ''' Return whether or not the list of numbers is sorted '''\n",
    "    for i in range(len(numbers) - 1):\n",
    "        if numbers[i] > numbers[i + 1]:\n",
    "            return False\n",
    "    return True"
   ]
  },
  {
   "cell_type": "markdown",
   "metadata": {},
   "source": [
    "Q9: In your own words, what is a function?\n",
    "\n",
    "Q10: In your own words, how do we create a function?\n",
    "\n",
    "Q11: In your own words, what is an argument or parameter?\n",
    "\n",
    "Q12: In your own words, what is a return value?\n",
    "\n",
    "Q13: Why would we use functions, or what is the value of functions?"
   ]
  }
 ],
 "metadata": {
  "kernelspec": {
   "display_name": "Python 3",
   "language": "python",
   "name": "python3"
  },
  "language_info": {
   "codemirror_mode": {
    "name": "ipython",
    "version": 3
   },
   "file_extension": ".py",
   "mimetype": "text/x-python",
   "name": "python",
   "nbconvert_exporter": "python",
   "pygments_lexer": "ipython3",
   "version": "3.8.5"
  }
 },
 "nbformat": 4,
 "nbformat_minor": 4
}
